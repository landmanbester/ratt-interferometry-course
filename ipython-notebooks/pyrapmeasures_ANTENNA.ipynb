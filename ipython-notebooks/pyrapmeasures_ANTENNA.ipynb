{
 "metadata": {
  "name": "",
  "signature": "sha256:2c6fb2eef646c6fdffe9d82d4c397b7a3b53fa1963a2e6f7e68e966b8e31508d"
 },
 "nbformat": 3,
 "nbformat_minor": 0,
 "worksheets": [
  {
   "cells": [
    {
     "cell_type": "heading",
     "level": 1,
     "metadata": {},
     "source": [
      "pyrap.measures and the ANTENNA table"
     ]
    },
    {
     "cell_type": "markdown",
     "metadata": {},
     "source": [
      "We will be investigating here how we create the ANTENNA table of a measurement set using pyrapmeasures (we will only show you how to convert ENU coordinates into XYZ, which is then stored in our antenna table). You would then use makems with this antenna table to make your ms. This is how we create $uv$-coverage in practise. We do not use the spherical assumptions we discussed in Fundamentals I."
     ]
    },
    {
     "cell_type": "heading",
     "level": 2,
     "metadata": {},
     "source": [
      "pyrap.measures"
     ]
    },
    {
     "cell_type": "markdown",
     "metadata": {},
     "source": [
      "First a brief explanation of pyrap measures. We have **measures.dq** which are mere quantities, like radians or meters. Then we have **measures** which can be a **position** (like ITRF), **direction** (like J2000) or an **epoch** (like UCT). They correspond to **where are you**, **what are you looking at** and **when did you make the observation**. Measures take in quantities. To activate these measures we call **do_frame()**. We can then convert between measures by calling **measure()**.    "
     ]
    },
    {
     "cell_type": "code",
     "collapsed": false,
     "input": [
      "import pyrap.measures\n",
      "import numpy as np\n",
      "dm = pyrap.measures.measures()\n",
      "dq = pyrap.measures.dq"
     ],
     "language": "python",
     "metadata": {},
     "outputs": [],
     "prompt_number": 2
    },
    {
     "cell_type": "markdown",
     "metadata": {},
     "source": [
      "Setting up pyrap.measures."
     ]
    },
    {
     "cell_type": "code",
     "collapsed": false,
     "input": [
      "lat = (-30 - 43.0/60.0 - 17.34/3600)*(np.pi/180)\n",
      "lon = (21 + 24.0/60 + 38.46/3600)*(np.pi/180) #position\n",
      "\n",
      "ra = -1.23967 #direction\n",
      "dec = -1.30307\n",
      "\n",
      "time = 4456771230.0 #time"
     ],
     "language": "python",
     "metadata": {},
     "outputs": [],
     "prompt_number": 3
    },
    {
     "cell_type": "markdown",
     "metadata": {},
     "source": [
      "Initializing some variables, time of observation, position of observatory and direction of field center."
     ]
    },
    {
     "cell_type": "code",
     "collapsed": false,
     "input": [
      "kat_7_enu = np.array([[25.095,-9.095,0.045],[90.284,26.380,-0.226],[3.985,26.893,0.000],[-21.605,25.494,0.019],\n",
      "                      [-38.272,-2.592,0.391],[-61.595,-79.699,0.702],[-87.988,75.754,0.138]])"
     ],
     "language": "python",
     "metadata": {},
     "outputs": [],
     "prompt_number": 4
    },
    {
     "cell_type": "markdown",
     "metadata": {},
     "source": [
      "The ENU coordinates of our array."
     ]
    },
    {
     "cell_type": "code",
     "collapsed": false,
     "input": [
      "refpos_wgs84 = dm.position('wgs84',dq.quantity(lon,'rad'),dq.quantity(lat,'rad'))\n",
      "refpos = dm.measure(refpos_wgs84,'itrf')\n",
      "lon,lat,rad = [ refpos[x]['value'] for x in 'm0','m1','m2' ]\n",
      "print dm.get_value(refpos_wgs84)\n",
      "print dm.get_value(refpos)\n",
      "print \"lon = \",lon\n",
      "print \"lat = \",lat\n",
      "print \"rad = \",rad"
     ],
     "language": "python",
     "metadata": {},
     "outputs": [
      {
       "output_type": "stream",
       "stream": "stdout",
       "text": [
        "[+021.24.38, -030.43.17, 1e-06 m]\n",
        "[+021.24.38, -030.33.10, 6.37259e+06 m]\n",
        "lon =  0.373686919269\n",
        "lat =  -0.533245921727\n",
        "rad =  6372590.51053\n"
       ]
      }
     ],
     "prompt_number": 5
    },
    {
     "cell_type": "markdown",
     "metadata": {},
     "source": [
      "Converting our array center position into a position measure."
     ]
    },
    {
     "cell_type": "code",
     "collapsed": false,
     "input": [
      "XYZ0 = rad*np.array([np.cos(lat)*np.cos(lon),np.cos(lat)*np.sin(lon),np.sin(lat)])\n",
      "print XYZ0"
     ],
     "language": "python",
     "metadata": {},
     "outputs": [
      {
       "output_type": "stream",
       "stream": "stdout",
       "text": [
        "[ 5109102.84838194  2003334.54085763 -3239387.07427276]\n"
       ]
      }
     ],
     "prompt_number": 6
    },
    {
     "cell_type": "markdown",
     "metadata": {},
     "source": [
      "Calculating the $XYZ$ coordinates of our array center. Do not confuse this $XYZ$ with the $XYZ$ in Fig. 2.11 in *Synthesis imaging in radio astronomy II, G.B. Taylor et. al.*. This $XYZ$ lies on the surface of an ellipsoid. The $XYZ$ we use in Fig. 2.11 assumes we work with difference vectors centered at the origin. "
     ]
    },
    {
     "cell_type": "code",
     "collapsed": false,
     "input": [
      "xform = np.array([\n",
      "    [-np.sin(lon),np.cos(lon),0],\n",
      "    [-np.cos(lon)*np.sin(lat),-np.sin(lon)*np.sin(lat),np.cos(lat)],\n",
      "    [np.cos(lat)*np.cos(lon),np.cos(lat)*np.sin(lon),np.sin(lat)]\n",
      "  ])\n",
      "print xform"
     ],
     "language": "python",
     "metadata": {},
     "outputs": [
      {
       "output_type": "stream",
       "stream": "stdout",
       "text": [
        "[[-0.36505038  0.93098776  0.        ]\n",
        " [ 0.4732502   0.18556653  0.86116161]\n",
        " [ 0.80173092  0.31436737 -0.50833128]]\n"
       ]
      }
     ],
     "prompt_number": 7
    },
    {
     "cell_type": "markdown",
     "metadata": {},
     "source": [
      "Setting up our conversion matrix."
     ]
    },
    {
     "cell_type": "code",
     "collapsed": false,
     "input": [
      "XYZ = XYZ0 + kat_7_enu.dot(xform)\n",
      "print XYZ"
     ],
     "language": "python",
     "metadata": {},
     "outputs": [
      {
       "output_type": "stream",
       "stream": "stdout",
       "text": [
        "[[ 5109089.41930992  2003356.23041456 -3239394.92941247]\n",
        " [ 5109082.19332233  2003423.41835496 -3239364.24194671]\n",
        " [ 5109114.12077379  2003343.24128448 -3239363.91505367]\n",
        " [ 5109122.81556892  2003319.16367299 -3239365.12947705]\n",
        " [ 5109115.90640243  2003298.55202309 -3239389.50516117]\n",
        " [ 5109088.17890765  2003262.62788551 -3239456.06484019]\n",
        " [ 5109170.92966945  2003266.72589555 -3239321.90798613]]\n"
       ]
      }
     ],
     "prompt_number": 8
    },
    {
     "cell_type": "markdown",
     "metadata": {},
     "source": [
      "Converting between ENU and $XYZ$. The $XYZ$ are the quantities that we store in our antenna table. From this antenna table we can create $uv$-coverage via makems."
     ]
    },
    {
     "cell_type": "code",
     "collapsed": false,
     "input": [
      "epoch = dm.epoch(\"UTC\",dq.quantity(time,\"s\"))\n",
      "print dm.get_value(epoch)"
     ],
     "language": "python",
     "metadata": {},
     "outputs": [
      {
       "output_type": "stream",
       "stream": "stdout",
       "text": [
        "[00:00:30]\n"
       ]
      }
     ],
     "prompt_number": 9
    },
    {
     "cell_type": "markdown",
     "metadata": {},
     "source": [
      "Setting up our time measure."
     ]
    },
    {
     "cell_type": "code",
     "collapsed": false,
     "input": [
      "fld = dm.direction('J2000',dq.quantity(ra,\"rad\"),dq.quantity(dec,\"rad\"))\n",
      "print dm.get_value(fld)"
     ],
     "language": "python",
     "metadata": {},
     "outputs": [
      {
       "output_type": "stream",
       "stream": "stdout",
       "text": [
        "[-071.01.40, -074.39.37]\n"
       ]
      }
     ],
     "prompt_number": 10
    },
    {
     "cell_type": "markdown",
     "metadata": {},
     "source": [
      "Setting up our direction measure."
     ]
    },
    {
     "cell_type": "code",
     "collapsed": false,
     "input": [
      "dm.do_frame(epoch)\n",
      "dm.do_frame(refpos)\n",
      "dm.do_frame(fld)\n",
      "e_LAST = dm.measure(epoch,'LAST')\n",
      "print dm.get_value(epoch)\n",
      "print dm.get_value(e_LAST)"
     ],
     "language": "python",
     "metadata": {},
     "outputs": [
      {
       "output_type": "stream",
       "stream": "stdout",
       "text": [
        "[00:00:30]\n",
        "[10:39:46]\n"
       ]
      }
     ],
     "prompt_number": 11
    },
    {
     "cell_type": "markdown",
     "metadata": {},
     "source": [
      "If we wish to derive our $uv$-coverage in the traditional way that is described in *Synthesis imaging in radio astronomy II, G.B. Taylor et. al.* on page 25, then we need to determine our LST, from which we can calculate our hour angle. This is what is done above. We first activate our measures and then we convert our epoch measure from UTC to LAST. "
     ]
    }
   ],
   "metadata": {}
  }
 ]
}