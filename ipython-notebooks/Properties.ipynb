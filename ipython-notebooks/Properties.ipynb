{
 "metadata": {
  "name": "",
  "signature": "sha256:5bb686b91f5a86c1485f3e5ec1006cda5afed51737e54815f45092035912f20f"
 },
 "nbformat": 3,
 "nbformat_minor": 0,
 "worksheets": [
  {
   "cells": [
    {
     "cell_type": "code",
     "collapsed": false,
     "input": [
      "import numpy as np\n",
      "import pylab as plt\n",
      "%matplotlib inline"
     ],
     "language": "python",
     "metadata": {},
     "outputs": [],
     "prompt_number": 9
    },
    {
     "cell_type": "heading",
     "level": 1,
     "metadata": {},
     "source": [
      "Basic properties"
     ]
    },
    {
     "cell_type": "markdown",
     "metadata": {},
     "source": [
      "* $f_0$: Observing frequency (Hz)\n",
      "* $D$: Dish diameter (m)\n",
      "* $b_{\\textrm{max}}$: Maximum baseline length (m)\n",
      "* $C_b$: Channel bandwidth (Hz)\n",
      "* $N_a$: Number of antennas"
     ]
    },
    {
     "cell_type": "code",
     "collapsed": false,
     "input": [
      "f0 = 1.4*10**9\n",
      "D = 12\n",
      "bmax = 185\n",
      "cB = 92.9121*10**6\n",
      "Na = 7"
     ],
     "language": "python",
     "metadata": {},
     "outputs": [],
     "prompt_number": 11
    },
    {
     "cell_type": "heading",
     "level": 1,
     "metadata": {},
     "source": [
      "Wavelength"
     ]
    },
    {
     "cell_type": "markdown",
     "metadata": {},
     "source": [
      "$\\lambda = \\frac{c}{f_0}$"
     ]
    },
    {
     "cell_type": "code",
     "collapsed": false,
     "input": [
      "lam = 3*10**8/f0\n",
      "print lam #m"
     ],
     "language": "python",
     "metadata": {},
     "outputs": [
      {
       "output_type": "stream",
       "stream": "stdout",
       "text": [
        "0.214285714286\n"
       ]
      }
     ],
     "prompt_number": 13
    },
    {
     "cell_type": "heading",
     "level": 1,
     "metadata": {},
     "source": [
      "Primary Beam (HPBW)"
     ]
    },
    {
     "cell_type": "markdown",
     "metadata": {},
     "source": [
      "The primary beam width is equal to $\\theta_p \\approx \\frac{\\lambda}{D}$ rad."
     ]
    },
    {
     "cell_type": "code",
     "collapsed": false,
     "input": [
      "theta_p = lam/D\n",
      "print theta_p #rad\n",
      "print theta_p*(180/np.pi) #degrees\n",
      "print theta_p*(180/np.pi)*60 #arcminutes\n",
      "print theta_p*(180/np.pi)*60*60 #arcseconds"
     ],
     "language": "python",
     "metadata": {},
     "outputs": [
      {
       "output_type": "stream",
       "stream": "stdout",
       "text": [
        "0.0178571428571\n",
        "1.02313891988\n",
        "61.3883351926\n",
        "3683.30011156\n"
       ]
      }
     ],
     "prompt_number": 14
    },
    {
     "cell_type": "heading",
     "level": 1,
     "metadata": {},
     "source": [
      "Angular Resolution"
     ]
    },
    {
     "cell_type": "markdown",
     "metadata": {},
     "source": [
      "The angular resolution is equal to $\\theta_s \\approx \\frac{\\lambda}{b_{\\textrm{max}}}$ rad."
     ]
    },
    {
     "cell_type": "code",
     "collapsed": false,
     "input": [
      "theta_s = lam/bmax\n",
      "print theta_s #rad\n",
      "print theta_s*(180/np.pi) #degrees\n",
      "print theta_s*(180/np.pi)*60 #arcminutes\n",
      "print theta_s*(180/np.pi)*60*60 #arcseconds"
     ],
     "language": "python",
     "metadata": {},
     "outputs": [
      {
       "output_type": "stream",
       "stream": "stdout",
       "text": [
        "0.0011583011583\n",
        "0.0663657677758\n",
        "3.98194606655\n",
        "238.916763993\n"
       ]
      }
     ],
     "prompt_number": 15
    },
    {
     "cell_type": "heading",
     "level": 1,
     "metadata": {},
     "source": [
      "Finite Bandwidth"
     ]
    },
    {
     "cell_type": "markdown",
     "metadata": {},
     "source": [
      "Angular radius $\\Delta \\theta$ in which sources are not dramatically atenuated by the fringe-washing function satisfies: $\\Delta \\theta C_b << \\theta_s f_0$."
     ]
    },
    {
     "cell_type": "code",
     "collapsed": false,
     "input": [
      "theta_d = (theta_s*f0)/cB\n",
      "print theta_d #rad\n",
      "print theta_d*(180/np.pi) #degrees\n",
      "print theta_d*(180/np.pi)*60 #arcminutes\n",
      "print theta_d*(180/np.pi)*60*60 #arcseconds"
     ],
     "language": "python",
     "metadata": {},
     "outputs": [
      {
       "output_type": "stream",
       "stream": "stdout",
       "text": [
        "0.0174532878024\n",
        "0.999999729702\n",
        "59.9999837821\n",
        "3599.99902693\n"
       ]
      }
     ],
     "prompt_number": 17
    },
    {
     "cell_type": "heading",
     "level": 1,
     "metadata": {},
     "source": [
      "Integration Time "
     ]
    },
    {
     "cell_type": "markdown",
     "metadata": {},
     "source": [
      "The maximum integration time $\\Delta t$ that the correlator may use before time-smearing occurs satisfies: $\\Delta \\theta \\Delta t << \\theta_s \\times 1.37 \\times 10^4$."
     ]
    },
    {
     "cell_type": "code",
     "collapsed": false,
     "input": [
      "t = (theta_s/theta_d)*1.37*10**4\n",
      "print t #s"
     ],
     "language": "python",
     "metadata": {},
     "outputs": [
      {
       "output_type": "stream",
       "stream": "stdout",
       "text": [
        "909.211264286\n"
       ]
      }
     ],
     "prompt_number": 19
    },
    {
     "cell_type": "heading",
     "level": 1,
     "metadata": {},
     "source": [
      "$w$-Term"
     ]
    },
    {
     "cell_type": "markdown",
     "metadata": {},
     "source": [
      "The field of view in which we may assume that the $w$-term is negliable satisfies: $\\theta_F << \\frac{1}{3}\\sqrt{\\theta_s}$."
     ]
    },
    {
     "cell_type": "code",
     "collapsed": false,
     "input": [
      "theta_F = 1.0/3.0*np.sqrt(theta_s) #rad\n",
      "print theta_F #rad\n",
      "print theta_F*(180/np.pi) #degrees\n",
      "print theta_F*(180/np.pi)*60 #arcminutes\n",
      "print theta_F*(180/np.pi)*60*60 #arcseconds"
     ],
     "language": "python",
     "metadata": {},
     "outputs": [
      {
       "output_type": "stream",
       "stream": "stdout",
       "text": [
        "0.011344607913\n",
        "0.649998153647\n",
        "38.9998892188\n",
        "2339.99335313\n"
       ]
      }
     ],
     "prompt_number": 20
    },
    {
     "cell_type": "heading",
     "level": 1,
     "metadata": {},
     "source": [
      "Graphical representation"
     ]
    },
    {
     "cell_type": "code",
     "collapsed": false,
     "input": [
      "t = np.linspace(-1,1,1000)"
     ],
     "language": "python",
     "metadata": {},
     "outputs": [],
     "prompt_number": 21
    },
    {
     "cell_type": "code",
     "collapsed": false,
     "input": [
      "x1 = 0.5*theta_p*np.cos(2*np.pi*t)*(180/np.pi)\n",
      "y1 = 0.5*theta_p*np.sin(2*np.pi*t)*(180/np.pi)\n",
      "x2 = 0.5*theta_s*np.cos(2*np.pi*t)*(180/np.pi)\n",
      "y2 = 0.5*theta_s*np.sin(2*np.pi*t)*(180/np.pi)\n",
      "x3 = theta_d*np.cos(2*np.pi*t)*(180/np.pi)\n",
      "y3 = theta_d*np.sin(2*np.pi*t)*(180/np.pi)\n",
      "x4 = 0.5*theta_F*np.cos(2*np.pi*t)*(180/np.pi)\n",
      "y4 = 0.5*theta_F*np.sin(2*np.pi*t)*(180/np.pi)\n",
      "\n",
      "plt.plot(x1,y1,\"b\",label=\"Pri. beam\")\n",
      "plt.hold(\"on\")\n",
      "plt.plot(x2,y2,\"c\",label=\"Ang. res.\")\n",
      "plt.plot(x3,y3,\"r\",label = \"Fin. Band.\")\n",
      "plt.plot(x4,y4,\"k\",label = r\"$w$-Term\")\n",
      "plt.legend()\n",
      "plt.xlabel(r\"$l$ [$^{\\circ}$]\")\n",
      "plt.ylabel(r\"$m$ [$^{\\circ}$]\")"
     ],
     "language": "python",
     "metadata": {},
     "outputs": [
      {
       "metadata": {},
       "output_type": "pyout",
       "prompt_number": 25,
       "text": [
        "<matplotlib.text.Text at 0x4bbcd90>"
       ]
      },
      {
       "metadata": {},
       "output_type": "display_data",
       "png": "[encoded data removed]",
       "text": [
        "<matplotlib.figure.Figure at 0x4ba41d0>"
       ]
      }
     ],
     "prompt_number": 25
    },
    {
     "cell_type": "code",
     "collapsed": false,
     "input": [],
     "language": "python",
     "metadata": {},
     "outputs": []
    }
   ],
   "metadata": {}
  }
 ]
}