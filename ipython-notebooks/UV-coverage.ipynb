{
 "metadata": {
  "name": "UV-coverage"
 }, 
 "nbformat": 2, 
 "worksheets": [
  {
   "cells": [
    {
     "cell_type": "markdown", 
     "source": [
      "This example shows you how to create $uv$-coverage form the ENU coordinates of an array."
     ]
    }, 
    {
     "cell_type": "code", 
     "collapsed": true, 
     "input": [
      "import numpy as np"
     ], 
     "language": "python", 
     "outputs": [], 
     "prompt_number": 3
    }, 
    {
     "cell_type": "code", 
     "collapsed": true, 
     "input": [
      "ant1 = np.array([25.095,-9.095,0.045])", 
      "ant2 = np.array([90.284,26.380,-0.226])"
     ], 
     "language": "python", 
     "outputs": [], 
     "prompt_number": 4
    }, 
    {
     "cell_type": "markdown", 
     "source": [
      "The above vectors contain the ENU (east-north-up) coordinates of two antennas (in meters). "
     ]
    }, 
    {
     "cell_type": "code", 
     "collapsed": true, 
     "input": [
      "b_ENU = ant2-ant1"
     ], 
     "language": "python", 
     "outputs": [], 
     "prompt_number": 5
    }, 
    {
     "cell_type": "markdown", 
     "source": [
      "The ENU baseline difference vector. This is for baseline 12. Baseline 21 would be the reverse. "
     ]
    }, 
    {
     "cell_type": "code", 
     "collapsed": true, 
     "input": [
      "L = (np.pi/180)*(-30-43.0/60-17.34/3600)"
     ], 
     "language": "python", 
     "outputs": [], 
     "prompt_number": 6
    }, 
    {
     "cell_type": "markdown", 
     "source": [
      "The latitude of the interferometer"
     ]
    }, 
    {
     "cell_type": "code", 
     "collapsed": true, 
     "input": [
      "dec = (np.pi/180)*(-74-39.0/60-37.481/3600)"
     ], 
     "language": "python", 
     "outputs": [], 
     "prompt_number": 7
    }, 
    {
     "cell_type": "markdown", 
     "source": [
      "Declination of observation"
     ]
    }, 
    {
     "cell_type": "code", 
     "collapsed": true, 
     "input": [
      "time_steps = 600"
     ], 
     "language": "python", 
     "outputs": [], 
     "prompt_number": 8
    }, 
    {
     "cell_type": "code", 
     "collapsed": true, 
     "input": [
      "h = np.linspace(-4,4,num=time_steps)*np.pi/12"
     ], 
     "language": "python", 
     "outputs": [], 
     "prompt_number": 9
    }, 
    {
     "cell_type": "markdown", 
     "source": [
      "The hour angle interval of observation"
     ]
    }, 
    {
     "cell_type": "code", 
     "collapsed": true, 
     "input": [
      "lam = (3*10**8)/(1.4*10**9)"
     ], 
     "language": "python", 
     "outputs": [], 
     "prompt_number": 10
    }, 
    {
     "cell_type": "code", 
     "collapsed": false, 
     "input": [
      "print lam"
     ], 
     "language": "python", 
     "outputs": [
      {
       "output_type": "stream", 
       "stream": "stdout", 
       "text": [
        "0.214285714286"
       ]
      }
     ], 
     "prompt_number": 11
    }, 
    {
     "cell_type": "markdown", 
     "source": [
      "The observational wavelength in meters ($\\lambda f = c$)"
     ]
    }, 
    {
     "cell_type": "code", 
     "collapsed": true, 
     "input": [
      "D = np.sqrt(np.sum((b_ENU)**2))"
     ], 
     "language": "python", 
     "outputs": [], 
     "prompt_number": 12
    }, 
    {
     "cell_type": "code", 
     "collapsed": false, 
     "input": [
      "print D"
     ], 
     "language": "python", 
     "outputs": [
      {
       "output_type": "stream", 
       "stream": "stdout", 
       "text": [
        "74.2169440694"
       ]
      }
     ], 
     "prompt_number": 13
    }, 
    {
     "cell_type": "markdown", 
     "source": [
      "The baseline length"
     ]
    }, 
    {
     "cell_type": "code", 
     "collapsed": false, 
     "input": [
      "A=np.arctan2(b_ENU[0],b_ENU[1])", 
      "print A*(180/np.pi)"
     ], 
     "language": "python", 
     "outputs": [
      {
       "output_type": "stream", 
       "stream": "stdout", 
       "text": [
        "61.4455465958"
       ]
      }
     ], 
     "prompt_number": 17
    }, 
    {
     "cell_type": "markdown", 
     "source": [
      "Azimuth angle (measured from north to east)"
     ]
    }, 
    {
     "cell_type": "code", 
     "collapsed": false, 
     "input": [
      "E=np.arcsin(b_ENU[2]/D)", 
      "print E*(180/np.pi)"
     ], 
     "language": "python", 
     "outputs": [
      {
       "output_type": "stream", 
       "stream": "stdout", 
       "text": [
        "-0.209213555573"
       ]
      }
     ], 
     "prompt_number": 32
    }, 
    {
     "cell_type": "markdown", 
     "source": [
      "Elevation angle"
     ]
    }, 
    {
     "cell_type": "code", 
     "collapsed": true, 
     "input": [
      "X = D*(np.cos(L)*np.sin(E)-np.sin(L)*np.cos(E)*np.cos(A))", 
      "Y = D*np.cos(E)*np.sin(A)", 
      "Z = D*(np.sin(L)*np.sin(E)+np.cos(L)*np.cos(E)*np.cos(A))"
     ], 
     "language": "python", 
     "outputs": [], 
     "prompt_number": 34
    }, 
    {
     "cell_type": "code", 
     "collapsed": false, 
     "input": [
      "print X,Y,Z"
     ], 
     "language": "python", 
     "outputs": [
      {
       "output_type": "stream", 
       "stream": "stdout", 
       "text": [
        "17.8899780145 65.189 30.6349106844"
       ]
      }
     ], 
     "prompt_number": 35
    }, 
    {
     "cell_type": "markdown", 
     "source": [
      "Baseline difference vector in equatorial coordinates (fixed to local meridian)"
     ]
    }, 
    {
     "cell_type": "code", 
     "collapsed": true, 
     "input": [
      "u = lam**(-1)*(np.sin(h)*X+np.cos(h)*Y)", 
      "v = lam**(-1)*(-np.sin(dec)*np.cos(h)*X+np.sin(dec)*np.sin(h)*Y+np.cos(dec)*Z)"
     ], 
     "language": "python", 
     "outputs": [], 
     "prompt_number": 36
    }, 
    {
     "cell_type": "markdown", 
     "source": [
      "The $uv$-track of baseline 12 over the 8 hour observation period."
     ]
    }, 
    {
     "cell_type": "code", 
     "collapsed": false, 
     "input": [
      "print u[0],v[0]", 
      "print u[-1],v[-1]"
     ], 
     "language": "python", 
     "outputs": [
      {
       "output_type": "stream", 
       "stream": "stdout", 
       "text": [
        "79.8061813093 332.147975816", 
        "224.409152024 -175.996969435"
       ]
      }
     ], 
     "prompt_number": 37
    }, 
    {
     "cell_type": "code", 
     "collapsed": false, 
     "input": [
      "from pylab import *", 
      "#%pylab inline"
     ], 
     "language": "python", 
     "outputs": [], 
     "prompt_number": 38
    }, 
    {
     "cell_type": "code", 
     "collapsed": true, 
     "input": [
      "plot(u,v)", 
      "hold('on')", 
      "plot(u[0],v[0],\"ro\")", 
      "plot(u[-1],v[-1],\"ko\")", 
      "plot(-u,-v,\"r\")", 
      "show()"
     ], 
     "language": "python", 
     "outputs": [], 
     "prompt_number": 31
    }, 
    {
     "cell_type": "code", 
     "collapsed": true, 
     "input": [
      "u_0 = np.copy(u)", 
      "v_0 = lam**(-1)*(-np.sin(0)*np.cos(h)*X+np.sin(0)*np.sin(h)*Y+np.cos(0)*Z)"
     ], 
     "language": "python", 
     "outputs": [], 
     "prompt_number": 39
    }, 
    {
     "cell_type": "markdown", 
     "source": [
      "The $uv$-track over the 8 hour observation period (at $\\delta_0 = 0^{\\circ}$)."
     ]
    }, 
    {
     "cell_type": "code", 
     "collapsed": false, 
     "input": [
      "print u_0[0],v_0[0]", 
      "print u_0[-1],v_0[-1]"
     ], 
     "language": "python", 
     "outputs": [
      {
       "output_type": "stream", 
       "stream": "stdout", 
       "text": [
        "79.8061813093 142.962916527", 
        "224.409152024 142.962916527"
       ]
      }
     ], 
     "prompt_number": 42
    }, 
    {
     "cell_type": "code", 
     "collapsed": true, 
     "input": [
      "plt.plot(u_0,v_0)", 
      "plt.hold('on')", 
      "plt.plot(u_0[0],v_0[0],\"ro\")", 
      "plt.plot(u_0[-1],v_0[-1],\"ko\")", 
      "plt.plot(-u_0,-v_0,\"r\")", 
      "plt.xlabel(\"$u$\")", 
      "plt.ylabel(\"$v$\")", 
      "plt.show()"
     ], 
     "language": "python", 
     "outputs": [], 
     "prompt_number": 29
    }, 
    {
     "cell_type": "code", 
     "collapsed": true, 
     "input": [], 
     "language": "python", 
     "outputs": []
    }
   ]
  }
 ]
}