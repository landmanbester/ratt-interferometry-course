{
 "metadata": {
  "name": ""
 },
 "nbformat": 3,
 "nbformat_minor": 0,
 "worksheets": [
  {
   "cells": [
    {
     "cell_type": "markdown",
     "metadata": {},
     "source": [
      "# Tigger cheat-sheet\n",
      "## Sphesihle Makhathini (sphemakh@gmail.com)\n",
      "\n",
      "Tigger is a FITS and skymodel viewer. Find Tigger at https://github.com/ska-sa/tigger \n",
      "\n",
      "\n",
      "First Lets create a simple sky model. Create a text file with lines bellow (save it as *mysky.txt*)\n",
      "\n",
      "> `#format:name ra_d ra_m dec_d dec_m i emaj_s emin_s pa_d`  \n",
      "> S0 0 0 -30 0 1 0 0 0  \n",
      "> S1 0 -5 -30 -2 10 30 10 45  \n",
      "> S2 0 3 -30 1 0.03 0 0 0  \n",
      "> S3 0 -2 -30 -5 10 20 20 0   \n",
      "> S4 0 5 -30 3 30 10 30 90  \n",
      "> S5 0 1 -30 -5 15 15 10 30  \n",
      "> S6 0 -3 -30 1 2 0 0 0  \n",
      "\n",
      "This is what the fields mean:  \n",
      "**name** : Source name  \n",
      "**`{ra,dec}_{d,m,s}`** : Right ascension and declination (degrees,arcmin,arcsec)  \n",
      "**i** : Stokes I. *q,u,v* also available  \n",
      "**`{emaj,emain}_{d,m,s}`** : Source dimensions (Ellipse major and minor axes)  \n",
      "** pa_d ** : Source position angle\n"
     ]
    },
    {
     "cell_type": "markdown",
     "metadata": {},
     "source": [
      "We want to open and manipulate the above sky model using Tigger. "
     ]
    },
    {
     "cell_type": "code",
     "collapsed": false,
     "input": [
      "import Tigger\n",
      "skymodel = 'mysky.txt'\n",
      "model = Tigger.load(skymodel)"
     ],
     "language": "python",
     "metadata": {},
     "outputs": [
      {
       "output_type": "stream",
       "stream": "stdout",
       "text": [
        "Loading mysky.txt: ASCII table\n"
       ]
      }
     ],
     "prompt_number": 7
    },
    {
     "cell_type": "markdown",
     "metadata": {},
     "source": [
      "Now that we've loaded the sky model, lets get the sources"
     ]
    },
    {
     "cell_type": "code",
     "collapsed": false,
     "input": [
      "sources = model.sources\n",
      "# See other Tigger model attrtibutes/functions (getSourcesNear() is a particularly useful function)\n",
      "print 'The model has %d sources'%(len(sources))\n",
      "print 'The field centre is RA,DEC = %.4f,%.4f rad'%(model.ra0,model.dec0) # Also see model.fieldCenter() "
     ],
     "language": "python",
     "metadata": {},
     "outputs": [
      {
       "output_type": "stream",
       "stream": "stdout",
       "text": [
        "The model has 7 sources\n",
        "The field centre is RA,DEC = -0.0000,-0.5233 rad\n"
       ]
      }
     ],
     "prompt_number": 61
    },
    {
     "cell_type": "markdown",
     "metadata": {},
     "source": [
      "Now lets get all sources with flux (stokes I) greater than 5Jy"
     ]
    },
    {
     "cell_type": "code",
     "collapsed": false,
     "input": [
      "g5jy = []\n",
      "for src in sources:\n",
      "    if src.flux.I > 5:\n",
      "        g5jy.append(src)\n",
      "# a fancier way to archive is\n",
      "g5jy_fancy = filter(lambda src: src.flux.I> 5,sources)\n",
      "print '%d sources > 5Jy'%(len(g5jy))"
     ],
     "language": "python",
     "metadata": {},
     "outputs": [
      {
       "output_type": "stream",
       "stream": "stdout",
       "text": [
        "4 sources > 5Jy\n"
       ]
      }
     ],
     "prompt_number": 52
    },
    {
     "cell_type": "markdown",
     "metadata": {},
     "source": [
      "Lets tag these sources with a 'g5jy' **tag**"
     ]
    },
    {
     "cell_type": "code",
     "collapsed": false,
     "input": [
      "for src in g5jy:\n",
      "    src.setAttribute('g5jy',True)"
     ],
     "language": "python",
     "metadata": {},
     "outputs": [],
     "prompt_number": 58
    },
    {
     "cell_type": "markdown",
     "metadata": {},
     "source": [
      "We can now save the modified sky model. Let's save this as Tigger sky model(*lsm.html*) to retain the tags.  \n"
     ]
    },
    {
     "cell_type": "code",
     "collapsed": false,
     "input": [
      "model.save('modified_sky.lsm.html')"
     ],
     "language": "python",
     "metadata": {},
     "outputs": [
      {
       "output_type": "stream",
       "stream": "stdout",
       "text": [
        "Saving modified_sky.lsm.html: Tigger sky model\n"
       ]
      }
     ],
     "prompt_number": 49
    },
    {
     "cell_type": "markdown",
     "metadata": {},
     "source": [
      "To convert sky models into the Tigger format use **tigger-convert**  (see *`$` tigger-convert --help* for more info. )\n",
      "For example, to convert *mysky.txt* into the Tigger Format, run:\n",
      "> $ tigger-convert mysky.txt mysky.lsm.html  \n",
      "\n",
      "Also see  \n",
      "> $ tigger-restore --help  "
     ]
    },
    {
     "cell_type": "markdown",
     "metadata": {},
     "source": [
      "**DONE**"
     ]
    }
   ],
   "metadata": {}
  }
 ]
}