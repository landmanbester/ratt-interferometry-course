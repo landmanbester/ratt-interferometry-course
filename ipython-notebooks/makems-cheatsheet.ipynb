{
 "metadata": {
  "name": "makems"
 },
 "nbformat": 3,
 "nbformat_minor": 0,
 "worksheets": [
  {
   "cells": [
    {
     "cell_type": "heading",
     "level": 1,
     "metadata": {},
     "source": "      How to Create a Measurement Set Using makems"
    },
    {
     "cell_type": "heading",
     "level": 1,
     "metadata": {},
     "source": "    Theophilus Ansah-Narh (philusnarh@gmail.com)"
    },
    {
     "cell_type": "markdown",
     "metadata": {},
     "source": "makems is used to create a measurement set from antenna tables.\n\nFirst let us create a configuration file as shown below (save it as myms.cfg):\n\n"
    },
    {
     "cell_type": "raw",
     "metadata": {},
     "source": "WriteAutoCorr=True\nNFrequencies=1\nStepTime=60\nStartFreq=1.827e+9\nNParts=1\nMSDesPath=.\nWriteImagerColumns=True\nAntennaTableName=KAT7_ANTENNA\nDeclination=-30.0.0\nNBands=1\nRightAscension=00:00:00\nStartTime=2000/01/11/ 20:26:00\nStepFreq=50e6\nMSName=KAT7_12h0s_1400MHz1.MS\nNTimes=481"
    },
    {
     "cell_type": "markdown",
     "metadata": {},
     "source": "Where, the fields;\n"
    },
    {
     "cell_type": "raw",
     "metadata": {},
     "source": "MSNAME:- Is the measurement set name (should be saved in .MS extension)\nNtimes:- Synthesis time\nMSDesPath:- Directory to store MS\nRightAscension:- Corresponds to east/west direction along the celestial equator (like longitude). Must be in     (degrees,arcmin,arcsec). The local sidereal time (LST) is the right ascension of the zenith,this the point in the sky directly overhead.\nDeclination:- Measures north/south directions of along the celestial equator (like latitude). Must be in (degrees).\nNfrequencies: Number of frequency channels. e.g. 1, 2, 3 .\nStartFreq: frequency at which the antenna operates\nStartTime:- This is the time for which you wish the calculation to be performed. It should be specified as three numbers, the hour,             minutes and seconds on the 24 hour clock \n"
    },
    {
     "cell_type": "raw",
     "metadata": {},
     "source": "\nTo makems, go to the command prompt:\n\n"
    },
    {
     "cell_type": "markdown",
     "metadata": {},
     "source": "$ makems myms.cfg\n"
    },
    {
     "cell_type": "heading",
     "level": 1,
     "metadata": {},
     "source": "Done!!!!!"
    },
    {
     "cell_type": "code",
     "collapsed": false,
     "input": "",
     "language": "python",
     "metadata": {},
     "outputs": []
    }
   ],
   "metadata": {}
  }
 ]
}