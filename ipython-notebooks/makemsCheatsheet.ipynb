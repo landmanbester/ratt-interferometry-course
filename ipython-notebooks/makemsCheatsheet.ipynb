{
 "metadata": {
  "name": "makemsCheatsheet"
 },
 "nbformat": 3,
 "nbformat_minor": 0,
 "worksheets": [
  {
   "cells": [
    {
     "cell_type": "heading",
     "level": 1,
     "metadata": {},
     "source": "How to Create a Measurement Set Using makems"
    },
    {
     "cell_type": "heading",
     "level": 2,
     "metadata": {},
     "source": "\nTheophilus Ansah-Narh (philusnarh@gmail.com)"
    },
    {
     "cell_type": "markdown",
     "metadata": {},
     "source": "makems is used to create a measurement set from antenna tables."
    },
    {
     "cell_type": "markdown",
     "metadata": {},
     "source": "First, let us create a configuration file by clicking the link below (save it with .cfg extension, eg. myms.cfg):"
    },
    {
     "cell_type": "markdown",
     "metadata": {},
     "source": "https://github.com/ratt-ru/ratt-interferometry-course/blob/master/ipython-notebooks/myms.cfg"
    },
    {
     "cell_type": "markdown",
     "metadata": {},
     "source": "where, the fields;"
    },
    {
     "cell_type": "markdown",
     "metadata": {},
     "source": "MSNAME:- Is the measurement set name (should be saved in .MS extension);\n\nNtimes:- Synthesis time;\n\nMSDesPath:- Directory to store MS;\n\nRightAscension:- Corresponds to east/west direction along the celestial equator (like longitude). Must be in (degrees,arcmin,arcsec). The local sidereal time (LST) is the right ascension of the zenith,this the point in the sky directly overhead.\n\nDeclination:- Measures north/south directions of along the celestial equator (like latitude). Must be in (degrees).\n\nNfrequencies: Number of frequency channels. e.g. 1, 2, 3 .\n\nStartFreq: frequency at which the antenna operates\n\nStartTime:- This is the time for which you wish the calculation to be performed. It should be specified as three numbers, the hour, minutes and seconds on the 24 hour clock"
    },
    {
     "cell_type": "markdown",
     "metadata": {},
     "source": "\nTo makems, go to the command prompt:"
    },
    {
     "cell_type": "markdown",
     "metadata": {},
     "source": "$ makems myms.cfg"
    },
    {
     "cell_type": "markdown",
     "metadata": {},
     "source": "\n\nNow, we write a python script to show the uv-coverage of our MS:"
    },
    {
     "cell_type": "code",
     "collapsed": false,
     "input": "import numpy as np                 #used to manipulate arrays  \nfrom pyrap.tables import table     #used to access MS\nfrom matplotlib import pylab as plt #used to make plots",
     "language": "python",
     "metadata": {},
     "outputs": [],
     "prompt_number": 9
    },
    {
     "cell_type": "code",
     "collapsed": false,
     "input": "# Open MS table and ANTENNA\nms = table(\"KAT7_12h0s_1827MHz1.MS\")  #msname\nuvw = ms.getcol(\"UVW\")\nA1 = ms.getcol(\"ANTENNA1\")\nA2 = ms.getcol(\"ANTENNA2\")",
     "language": "python",
     "metadata": {},
     "outputs": [
      {
       "output_type": "stream",
       "stream": "stdout",
       "text": "Successful readonly open of default-locked table KAT7_12h0s_1827MHz1.MS: 25 columns, 10101 rows\n"
      }
     ],
     "prompt_number": 10
    },
    {
     "cell_type": "code",
     "collapsed": false,
     "input": "for j in xrange(np.max(A1)+1):\n        for k in xrange(j+1,np.max(A2)+1):                                       \n                uvloc = (A1==j)&(A2==k)\n                u = uvw[uvloc,0]\n                v = uvw[uvloc,1]\n                plt.plot(u, v, color=\"r\")\n                plt.plot(-u, -v, color=\"b\")",
     "language": "python",
     "metadata": {},
     "outputs": [],
     "prompt_number": 11
    },
    {
     "cell_type": "code",
     "collapsed": false,
     "input": "plt.axis('image')\nplt.xlabel(\"u /m\")\nplt.ylabel(\"v /m\")\nplt.title(\"KAT7 UV-COVERAGE\")\nplt.show()           ",
     "language": "python",
     "metadata": {},
     "outputs": [],
     "prompt_number": 12
    },
    {
     "cell_type": "markdown",
     "metadata": {},
     "source": "<img src=\"files/uv_cov.png\">\n\n"
    },
    {
     "cell_type": "markdown",
     "metadata": {},
     "source": "The above graph clearly depicts that, in practice, the complex visibility cannot be known everywhere, rather only finite samples can be measured on the $uv$ plane. "
    },
    {
     "cell_type": "heading",
     "level": 2,
     "metadata": {},
     "source": "Done !!!!!"
    }
   ],
   "metadata": {}
  }
 ]
}