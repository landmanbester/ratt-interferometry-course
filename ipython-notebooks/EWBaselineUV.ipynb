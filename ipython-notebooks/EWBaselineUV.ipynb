{
 "metadata": {
  "name": "",
  "signature": "sha256:c84629f61bce0c88d72aee233d4fd59d76eb6fc25f4e9dc30e385c397a65ebd3"
 },
 "nbformat": 3,
 "nbformat_minor": 0,
 "worksheets": [
  {
   "cells": [
    {
     "cell_type": "heading",
     "level": 1,
     "metadata": {},
     "source": [
      "UV-Coverage of an EW-baseline"
     ]
    },
    {
     "cell_type": "markdown",
     "metadata": {},
     "source": [
      "When we have and EW baseline things simplify. Firstly: $XYZ = [0~d~0]^T$, where $d$ is the baseline length measured in wavelengths.\n",
      "Moreover, we have that:\n",
      "* $u = d\\cos(H)$,\n",
      "* $v = d\\sin(H)\\sin(\\delta)$,\n",
      "\n",
      "where $H$ is the hour angle of the field center and $\\delta$ its declination. In this notebook we will be plotting the $uv$-coverage of an EW-baseline whose field center is at two different declinations."
     ]
    },
    {
     "cell_type": "code",
     "collapsed": false,
     "input": [
      "import numpy as np\n",
      "import pylab as plt\n",
      "%matplotlib inline"
     ],
     "language": "python",
     "metadata": {},
     "outputs": [],
     "prompt_number": 1
    },
    {
     "cell_type": "heading",
     "level": 1,
     "metadata": {},
     "source": [
      "Initialization 90$^{\\circ}$"
     ]
    },
    {
     "cell_type": "code",
     "collapsed": false,
     "input": [
      "H = np.linspace(-6,6,100)*(np.pi/12) #Hour angle in radians\n",
      "d = 100 #We assume that we have already divided by wavelength\n",
      "delta = 90*(np.pi/180) #Declination in radians"
     ],
     "language": "python",
     "metadata": {},
     "outputs": [],
     "prompt_number": 2
    },
    {
     "cell_type": "markdown",
     "metadata": {},
     "source": [
      "We have now set up the hour angle and the declination of our observation. Note that only the hour angle changes as the earth rotates. The field center and the NCP coincides."
     ]
    },
    {
     "cell_type": "code",
     "collapsed": false,
     "input": [
      "u_90 = d*np.cos(H)\n",
      "v_90 = d*np.sin(H)*np.sin(delta)"
     ],
     "language": "python",
     "metadata": {},
     "outputs": [],
     "prompt_number": 10
    },
    {
     "cell_type": "markdown",
     "metadata": {},
     "source": [
      "Deriving the $uv$-track of our EW baseline over the observation period [-6h,6h]."
     ]
    },
    {
     "cell_type": "code",
     "collapsed": false,
     "input": [
      "u_90_1 = d*np.cos(-6*(np.pi/12))\n",
      "u_90_2 = d*np.cos(0*(np.pi/12))\n",
      "u_90_3 = d*np.cos(6*(np.pi/12))\n",
      "\n",
      "v_90_1 = d*np.sin(-6*(np.pi/12))*np.sin(delta)\n",
      "v_90_2 = d*np.sin(0*(np.pi/12))*np.sin(delta)\n",
      "v_90_3 = d*np.sin(6*(np.pi/12))*np.sin(delta)"
     ],
     "language": "python",
     "metadata": {},
     "outputs": [],
     "prompt_number": 15
    },
    {
     "cell_type": "markdown",
     "metadata": {},
     "source": [
      "Deriving specific points on the $uv$-track, the points where $H = \\{$-6h,0h,6h$\\}$"
     ]
    },
    {
     "cell_type": "code",
     "collapsed": false,
     "input": [
      "plt.plot(u_90,v_90)\n",
      "plt.hold(\"on\")\n",
      "plt.plot(u_90_1,v_90_1,\"bo\")\n",
      "plt.plot(u_90_2,v_90_2,\"go\")\n",
      "plt.plot(u_90_3,v_90_3,\"ro\")\n",
      "plt.xlim([-d-10,d+10])\n",
      "plt.ylim([-d-10,d+10])"
     ],
     "language": "python",
     "metadata": {},
     "outputs": [
      {
       "metadata": {},
       "output_type": "pyout",
       "prompt_number": 17,
       "text": [
        "(-110, 110)"
       ]
      },
      {
       "metadata": {},
       "output_type": "display_data",
       "png": "[encoded data removed]",
       "text": [
        "<matplotlib.figure.Figure at 0x3f8c190>"
       ]
      }
     ],
     "prompt_number": 17
    },
    {
     "cell_type": "markdown",
     "metadata": {},
     "source": [
      "Plotting the $uv$-track (over the 12 hour observation period). The three colored dots represent the three points that we calculated in the previous cell. The blue\n",
      "dot can be associated with hour angle -6h, the green dot can be associated with hour angle 0, while the red dot can be associated with hour angle 6h. \n",
      "The $uv$-track is therefore moving in the anti-clockwise direction. Also note that the $uv$-track is a cricle with radius equal to $d$."
     ]
    },
    {
     "cell_type": "heading",
     "level": 1,
     "metadata": {},
     "source": [
      "Initialization 60$^{\\circ}$"
     ]
    },
    {
     "cell_type": "code",
     "collapsed": false,
     "input": [
      "delta = 60*(np.pi/180) #Declination in degrees"
     ],
     "language": "python",
     "metadata": {},
     "outputs": [],
     "prompt_number": 23
    },
    {
     "cell_type": "code",
     "collapsed": false,
     "input": [
      "u_60 = d*np.cos(H)\n",
      "v_60 = d*np.sin(H)*np.sin(delta)"
     ],
     "language": "python",
     "metadata": {},
     "outputs": [],
     "prompt_number": 24
    },
    {
     "cell_type": "markdown",
     "metadata": {},
     "source": [
      "Deriving the $uv$-track of our EW baseline over the observation period [-6h,6h]."
     ]
    },
    {
     "cell_type": "code",
     "collapsed": false,
     "input": [
      "u_60_1 = d*np.cos(-6*(np.pi/12))\n",
      "u_60_2 = d*np.cos(0*(np.pi/12))\n",
      "u_60_3 = d*np.cos(6*(np.pi/12))\n",
      "\n",
      "v_60_1 = d*np.sin(-6*(np.pi/12))*np.sin(delta)\n",
      "v_60_2 = d*np.sin(0*(np.pi/12))*np.sin(delta)\n",
      "v_60_3 = d*np.sin(6*(np.pi/12))*np.sin(delta)"
     ],
     "language": "python",
     "metadata": {},
     "outputs": [],
     "prompt_number": 25
    },
    {
     "cell_type": "markdown",
     "metadata": {},
     "source": [
      "Deriving specific points on the $uv$-track, the points where $H = \\{$-6h,0h,6h$\\}$"
     ]
    },
    {
     "cell_type": "code",
     "collapsed": false,
     "input": [
      "#delta 90\n",
      "plt.plot(u_90,v_90)\n",
      "plt.hold(\"on\")\n",
      "plt.plot(u_90_1,v_90_1,\"bo\")\n",
      "plt.plot(u_90_2,v_90_2,\"go\")\n",
      "plt.plot(u_90_3,v_90_3,\"ro\")\n",
      "# delta 60\n",
      "plt.plot(u_60,v_60,\"r\")\n",
      "plt.plot(u_60_1,v_60_1,\"bo\")\n",
      "plt.plot(u_60_2,v_60_2,\"go\")\n",
      "plt.plot(u_60_3,v_60_3,\"ro\")\n",
      "plt.xlim([-d-10,d+10])\n",
      "plt.ylim([-d-10,d+10])"
     ],
     "language": "python",
     "metadata": {},
     "outputs": [
      {
       "metadata": {},
       "output_type": "pyout",
       "prompt_number": 26,
       "text": [
        "(-110, 110)"
       ]
      },
      {
       "metadata": {},
       "output_type": "display_data",
       "png": "[encoded data removed]",
       "text": [
        "<matplotlib.figure.Figure at 0x2411090>"
       ]
      }
     ],
     "prompt_number": 26
    },
    {
     "cell_type": "markdown",
     "metadata": {},
     "source": [
      "Plotting the $uv$-tracks (over the 12 hour observation period). The three colored dots represent $uv$-points at the three different hour angles. The blue dot can be associated with hour angle -6h, the green dot can be associated with hour angle 0, while the red dot can be associated with hour angle 6h. The $uv$-track is therefore moving in the anti-clockwise direction. The blue curve\n",
      "corresponds to $\\delta = 90^{\\circ}$ and is a circle with radius equal to $d$. The red curve corresponds to $\\delta = 60^{\\circ}$ and is an ellipse with a semi-major axis equal to $d$ and a semi-minor axis equal to $d \\sin(\\delta)$.  "
     ]
    }
   ],
   "metadata": {}
  }
 ]
}