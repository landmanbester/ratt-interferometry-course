{
 "metadata": {
  "name": "Determining parallactic angle etc. from MS"
 }, 
 "nbformat": 2, 
 "worksheets": [
  {
   "cells": [
    {
     "cell_type": "markdown", 
     "source": [
      "# MS, measures and parallactic angles", 
      "", 
      "## Oleg Smirnov (```o.smirnov@ru.ac.za```)", 
      "", 
      "The parallactic angle (PA) $\\gamma$ is defined as the angle that local zenith makes with respect to ", 
      "true north (in the RA/Dec system). That is, given a source direction ra,dec, draw two lines", 
      "from that point on the sky: one towards NCP (this is true North), and one towards local zenith", 
      "(the local meridian). The angle at which these lines intersect is called the PA, measured from ", 
      "true North (NCP).", 
      "", 
      "Knowing the PA can be very important for az/el mounted antennas, because both their primary beam patterns", 
      "and polarization response rotates relative to the sky. For example, consider an antenna pointing at ra0/dec0, and a source $1^\\circ$", 
      "North (i.e. at ra0,dec0$+1^\\circ$). Consider where that source is in the primary beam pattern. ", 
      "Using $xy$ for coordinates in the plane of the primary beam: when PA=0$^\\circ$, this source will be ", 
      "positioned at $y=1^\\circ$ in the beam, i.e. directly \"above\" centre. When PA=45$^\\circ$, local ", 
      "vertical points 45$^\\circ$ to the \"left\" (East) of sky vertical. The source therefore moves $45^\\circ$ \"right\"", 
      "in the beam,and will be observed at $x=y=\\sqrt{2}^\\circ$ in the beam.", 
      "", 
      "Since the sky continuously rotates, the PA is a function of position on Earth, time, and reference ", 
      "direction on the sky. This notebook shows how to access these quantities in the MS, and calculate a PA ", 
      "based on them. ", 
      "", 
      "First, make sure you check this variable:"
     ]
    }, 
    {
     "cell_type": "code", 
     "collapsed": true, 
     "input": [
      "msname = '3C286-C.MS'   ### CHANGE THIS TO YOUR MS"
     ], 
     "language": "python", 
     "outputs": [], 
     "prompt_number": 205
    }, 
    {
     "cell_type": "markdown", 
     "source": [
      "And now for the business end of the notebook."
     ]
    }, 
    {
     "cell_type": "code", 
     "collapsed": true, 
     "input": [
      "from pyrap.tables import table     # module used for MS access", 
      "import pyrap.measures              # module used for converting coordinates and such"
     ], 
     "language": "python", 
     "outputs": [], 
     "prompt_number": 206
    }, 
    {
     "cell_type": "code", 
     "collapsed": false, 
     "input": [
      "# open main MS table, and ANTENNA and FIELD subtable", 
      "tab=table(msname)", 
      "anttab = table(tab.getkeyword(\"ANTENNA\"))", 
      "fieldtab = table(tab.getkeyword(\"FIELD\")) "
     ], 
     "language": "python", 
     "outputs": [
      {
       "output_type": "stream", 
       "stream": "stdout", 
       "text": [
        "Successful readonly open of default-locked table 3C286-C.MS: 26 columns, 2882816 rows", 
        "Successful readonly open of default-locked table /home/oms/data/RP-3C286/3C286-C.MS/ANTENNA: 8 columns, 28 rows", 
        "Successful readonly open of default-locked table /home/oms/data/RP-3C286/3C286-C.MS/FIELD: 9 columns, 1 rows"
       ]
      }
     ], 
     "prompt_number": 207
    }, 
    {
     "cell_type": "markdown", 
     "source": [
      "```pyrap.measures``` is the Python module used for manipulating quantities and coordinates. Its syntax is a little ", 
      "arcane, but extremely powerful. First we must import the module:"
     ]
    }, 
    {
     "cell_type": "code", 
     "collapsed": false, 
     "input": [
      "# dq is for quantities, dm is for measures", 
      "from pyrap.measures import dq", 
      "dm = pyrap.measures.measures()"
     ], 
     "language": "python", 
     "outputs": [], 
     "prompt_number": 208
    }, 
    {
     "cell_type": "markdown", 
     "source": [
      "First, get the antenna positions from the MS. This will be an N$\\times$3 array of XYZ ", 
      "positions in the ITRF frame, because that's how the MS stores positions.", 
      "", 
      "So far these are just numbers, we must convert them into **quantitites** -- values with physical ", 
      "a unit -- and then create a **position measure** from the three quantities. "
     ]
    }, 
    {
     "cell_type": "code", 
     "collapsed": false, 
     "input": [
      "antpos = anttab.getcol(\"POSITION\")", 
      "# make position measure from antenna 0", 
      "pos0 = dm.position('itrf',*[ dq.quantity(x,'m') for x in antpos[0]]) ", 
      "# quick shortcut if you know the observatory", 
      "obspos = dm.observatory(\"VLA\")", 
      "print pos0", 
      "print obspos"
     ], 
     "language": "python", 
     "outputs": [
      {
       "output_type": "stream", 
       "stream": "stdout", 
       "text": [
        "{'m1': {'value': 0.5917055616548964, 'unit': 'rad'}, 'm2': {'unit': 'm', 'value': 6373576.107254827}, 'type': 'position', 'm0': {'value': -1.8782974819205893, 'unit': 'rad'}, 'refer': 'ITRF'}", 
        "{'m1': {'value': 0.5916750987501983, 'unit': 'rad'}, 'm2': {'unit': 'm', 'value': 6373576.280915651}, 'type': 'position', 'm0': {'value': -1.8782942581394362, 'unit': 'rad'}, 'refer': 'ITRF'}"
       ]
      }
     ], 
     "prompt_number": 209
    }, 
    {
     "cell_type": "markdown", 
     "source": [
      "Likewise, the direction on the sky is stored in the FIELD table, PHASE_DIR column. The table gives us two", 
      "numbers in radians, from which we make quantities, from which we make a **direction measure** (specifying the ", 
      "J2000 coordinate frame)."
     ]
    }, 
    {
     "cell_type": "code", 
     "collapsed": false, 
     "input": [
      "# this will be a 2-vector for the direction of field 0 in MS", 
      "ra,dec = fieldtab.getcol(\"PHASE_DIR\",0,1)[0][0]", 
      "# this is a direction object corresponding to field 0 in MS", 
      "fld = dm.direction('J2000',dq.quantity(ra,\"rad\"),dq.quantity(dec,\"rad\"))", 
      "print fld"
     ], 
     "language": "python", 
     "outputs": [
      {
       "output_type": "stream", 
       "stream": "stdout", 
       "text": [
        "{'m1': {'unit': 'rad', 'value': 0.5324852108999384}, 'type': 'direction', 'm0': {'value': -2.74392752958537, 'unit': 'rad'}, 'refer': 'J2000'}"
       ]
      }
     ], 
     "prompt_number": 210
    }, 
    {
     "cell_type": "markdown", 
     "source": [
      "Then, we create a direction measure for local zenith in the az/el frame. This will be useful later."
     ]
    }, 
    {
     "cell_type": "code", 
     "collapsed": false, 
     "input": [
      "zenith = dm.direction('AZEL','0deg','90deg')", 
      "print zenith"
     ], 
     "language": "python", 
     "outputs": [
      {
       "output_type": "stream", 
       "stream": "stdout", 
       "text": [
        "{'m1': {'unit': 'rad', 'value': 1.5707963267948966}, 'type': 'direction', 'm0': {'value': 0.0, 'unit': 'rad'}, 'refer': 'AZEL'}"
       ]
      }
     ], 
     "prompt_number": 211
    }, 
    {
     "cell_type": "markdown", 
     "source": [
      "Finally, same goes for time -- the TIME column stores seconds in UTC, which we convert into an **epoch measure**."
     ]
    }, 
    {
     "cell_type": "code", 
     "collapsed": false, 
     "input": [
      "tm = tab.getcol(\"TIME\")", 
      "# construct time measure from first timestamp", 
      "epoch = dm.epoch(\"UTC\",dq.quantity(tm[0],\"s\"))", 
      "print epoch"
     ], 
     "language": "python", 
     "outputs": [
      {
       "output_type": "stream", 
       "stream": "stdout", 
       "text": [
        "{'type': 'epoch', 'm0': {'unit': 'd', 'value': 56369.31866899133}, 'refer': 'UTC'}"
       ]
      }
     ], 
     "prompt_number": 212
    }, 
    {
     "cell_type": "markdown", 
     "source": [
      "In order to work with coordinate conversions, we must specify an observational **frame** (i.e. where and when?). ", 
      "A frame consist of a position measure and an epoch measure. The ```do_frame()``` calls specify both.", 
      "", 
      "Having done that, the ```dm.posangle()``` method now gives us the **position angle** from one direction to ", 
      "another direction. We want the position angle of local zenith from field centre,  which is exactly what the parallactic angle is.", 
      "", 
      "Finally, the last line shows how, having specified a frame, we can call ```dm.measure()``` to convert ", 
      "coordinates. Here we convert the zenith measure into J2000 RA/Dec."
     ]
    }, 
    {
     "cell_type": "code", 
     "collapsed": false, 
     "input": [
      "dm.do_frame(epoch)", 
      "dm.do_frame(pos0)", 
      "pa = dm.posangle(fld,zenith)", 
      "print \"PA at beginning of observation:\", pa.get_value(\"deg\");", 
      "## not necessary here, but shows how dm.measure() can convert directions", 
      "## between different coordinate systems, once a frame has been set up.", 
      "print dm.measure(zenith,'J2000')"
     ], 
     "language": "python", 
     "outputs": [
      {
       "output_type": "stream", 
       "stream": "stdout", 
       "text": [
        "PA at beginning of observation: -73.0932409457", 
        "{'m1': {'unit': 'rad', 'value': 0.5930503176255246}, 'type': 'direction', 'm0': {'value': -3.0899029274062704, 'unit': 'rad'}, 'refer': 'J2000'}"
       ]
      }
     ], 
     "prompt_number": 213
    }, 
    {
     "cell_type": "markdown", 
     "source": [
      "Now we do the same for the end of the observation (time \"-1\" meaning last timestamp). ", 
      "Note how we don't even bother to create intermediate objects, just change the epoch of the frame", 
      "and call ```posangle``` again."
     ]
    }, 
    {
     "cell_type": "code", 
     "collapsed": false, 
     "input": [
      "dm.do_frame(dm.epoch(\"UTC\",dq.quantity(tm[-1],\"s\")))", 
      "pa = dm.posangle(fld,zenith)", 
      "print \"PA at end of observation:\",pa.get_value(\"deg\")"
     ], 
     "language": "python", 
     "outputs": [
      {
       "output_type": "stream", 
       "stream": "stdout", 
       "text": [
        "PA at end of observation: 73.6339256117"
       ]
      }
     ], 
     "prompt_number": 214
    }, 
    {
     "cell_type": "markdown", 
     "source": [
      "Finally, let's do something fancy -- make a plot of PA vs. time. First, we use sorted(set()) to get a list", 
      "of the unique timestamps in the MS.", 
      "", 
      "Then, we use list comprehension to make a list of corresponding PA values. Note how we take advantage of ", 
      "Python's ```and``` operator semantics. The do_frame() call is evaluated first each time (and we know it ", 
      "returns True), while the result of the expression is always the second term, i.e. the position angle."
     ]
    }, 
    {
     "cell_type": "code", 
     "collapsed": false, 
     "input": [
      "times = numpy.array(sorted(set(tm)))", 
      "pas = [ (dm.do_frame(dm.epoch(\"UTC\",dq.quantity(t,\"s\"))) and dm.posangle(fld,zenith).get_value(\"deg\")) for t in times ]; "
     ], 
     "language": "python", 
     "outputs": [], 
     "prompt_number": 215
    }, 
    {
     "cell_type": "code", 
     "collapsed": false, 
     "input": [
      "plot((times-times[0])/3600,pas)", 
      "xlabel(\"Time since beginning of observation, hours\")", 
      "ylabel(\"PA, degrees\");"
     ], 
     "language": "python", 
     "outputs": [
      {
       "output_type": "display_data", 
       "png": "[encoded data removed]"
      }
     ], 
     "prompt_number": 216
    }, 
    {
     "cell_type": "code", 
     "collapsed": true, 
     "input": [], 
     "language": "python", 
     "outputs": [], 
     "prompt_number": 216
    }
   ]
  }
 ]
}