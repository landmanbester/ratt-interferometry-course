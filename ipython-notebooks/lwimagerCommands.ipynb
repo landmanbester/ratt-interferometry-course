{
 "metadata": {
  "name": ""
 },
 "nbformat": 3,
 "nbformat_minor": 0,
 "worksheets": [
  {
   "cells": [
    {
     "cell_type": "markdown",
     "metadata": {},
     "source": [
      "This is a non-interactive notebook which has various command line calls to lwimager to generate images from measurement sets."
     ]
    },
    {
     "cell_type": "markdown",
     "metadata": {},
     "source": [
      "Make a uv coverage plot from a measurement set"
     ]
    },
    {
     "cell_type": "raw",
     "metadata": {},
     "source": [
      "./plot_uv_coverage.py -S vla_4h30s.uv_cov.png vla_4h30s.MS"
     ]
    },
    {
     "cell_type": "markdown",
     "metadata": {},
     "source": [
      "Make a PSF image from a measurement set"
     ]
    },
    {
     "cell_type": "raw",
     "metadata": {},
     "source": [
      "lwimager ms=vla_4h30s.MS fits=vla_4h30s.psf.fits data=psf mode=channel weight=uniform robust=0.0 wprojplanes=0 stokes=I npix=512 cellsize=2arcsec"
     ]
    },
    {
     "cell_type": "markdown",
     "metadata": {},
     "source": [
      "Weightings:\n",
      "    uniform\n",
      "    natural\n",
      "    briggs"
     ]
    },
    {
     "cell_type": "raw",
     "metadata": {},
     "source": [
      "lwimager ms=vla_4h30s.MS fits=vla_4h30s.psf.fits data=psf mode=channel weight=uniform robust=0.0 wprojplanes=0 stokes=I npix=512 cellsize=2arcsec"
     ]
    },
    {
     "cell_type": "raw",
     "metadata": {},
     "source": [
      "lwimager ms=vla_4h30s.MS fits=vla_4h30s.psf.fits data=psf mode=channel weight=natural robust=0.0 wprojplanes=0 stokes=I npix=512 cellsize=2arcsec"
     ]
    },
    {
     "cell_type": "raw",
     "metadata": {},
     "source": [
      "lwimager ms=vla_4h30s.MS fits=vla_4h30s.psf.fits data=psf mode=channel weight=briggs robust=1.0 wprojplanes=0 stokes=I npix=512 cellsize=2arcsec"
     ]
    },
    {
     "cell_type": "markdown",
     "metadata": {},
     "source": [
      "Make a dirty image:"
     ]
    },
    {
     "cell_type": "raw",
     "metadata": {},
     "source": [
      "lwimager ms=vla_4h30s.MS fits=vla_4h30s.dirty.fits data=CORRECTED_DATA mode=channel weight=natural robust=0.0 wprojplanes=0 stokes=I npix=1024 cellsize=4arcsec"
     ]
    },
    {
     "cell_type": "markdown",
     "metadata": {},
     "source": [
      "Make a clean image:"
     ]
    },
    {
     "cell_type": "raw",
     "metadata": {},
     "source": [
      "lwimager ms=vla_4h30s.MS fits=vla_4h30s.clean.fits data=CORRECTED_DATA mode=channel weight=uniform robust=0.0 wprojplanes=0 stokes=I npix=1024 cellsize=4arcsec operation=csclean niter=1000 gain=0.1 threshold=0Jy"
     ]
    },
    {
     "cell_type": "markdown",
     "metadata": {},
     "source": [
      "Produce a channelized, clean image"
     ]
    },
    {
     "cell_type": "raw",
     "metadata": {},
     "source": [
      "lwimager data=CORRECTED_DATA ms=vla_4h30s.MS mode=channel weight=uniform stokes=I npix=1024 cellsize=4arcsec chanmode=channel nchan=10 chanstart=0 chanstep=1 img_nchan=10 img_chanstart=0 img_chanstep=1 fits=vla_4h30s.MS.CORRECTED_DATA.channel.10ch.restored.fits operation=csclean niter=10 gain=0.1 threshold=0Jy"
     ]
    },
    {
     "cell_type": "markdown",
     "metadata": {},
     "source": [
      "Include W-projection"
     ]
    },
    {
     "cell_type": "raw",
     "metadata": {},
     "source": [
      "lwimager ms=vla_4h30s.MS fits=vla_4h30s.clean.fits data=CORRECTED_DATA mode=mfs weight=uniform robust=0.0 wprojplanes=32 stokes=I npix=1024 cellsize=4arcsec operation=csclean niter=1000 gain=0.1 threshold=0Jy"
     ]
    },
    {
     "cell_type": "code",
     "collapsed": false,
     "input": [],
     "language": "python",
     "metadata": {},
     "outputs": []
    }
   ],
   "metadata": {}
  }
 ]
}